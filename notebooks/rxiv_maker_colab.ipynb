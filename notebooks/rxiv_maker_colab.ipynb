{
  "cells": [
    {
      "cell_type": "markdown",
      "metadata": {
        "id": "rxiv-maker-intro"
      },
      "source": [
        "# Rxiv-Maker: Automated LaTeX Article Generation\n",
        "\n",
        "This notebook allows you to run Rxiv-Maker in Google Colab to generate publication-ready LaTeX articles from Markdown manuscripts.\n",
        "\n",
        "**Features:**\n",
        "- Convert Markdown to LaTeX with academic formatting\n",
        "- Generate figures from Python scripts and Mermaid diagrams\n",
        "- Complete LaTeX compilation with bibliography\n",
        "- Download generated PDF and source files\n",
        "\n",
        "**What you'll need:**\n",
        "- Your manuscript in Markdown format with YAML metadata\n",
        "- Bibliography file (.bib)\n",
        "- Figure source files (Python scripts or Mermaid diagrams)"
      ]
    },
    {
      "cell_type": "markdown",
      "metadata": {
        "id": "setup-section"
      },
      "source": [
        "## 🚀 Setup and Installation\n",
        "\n",
        "First, let's install all the required dependencies."
      ]
    },
    {
      "cell_type": "code",
      "execution_count": null,
      "metadata": {
        "cellView": "form",
        "id": "install-dependencies"
      },
      "outputs": [],
      "source": [
        "# @title Install all dependencies\n",
        "# Install LaTeX distribution\n",
        "!apt-get -qq update\n",
        "!apt-get -qq install texlive texlive-latex-extra texlive-fonts-recommended texlive-fonts-extra texlive-science texlive-bibtex-extra lmodern latexmk ghostscript -y\n",
        "\n",
        "# Manually install missing styles like siunitx\n",
        "!tlmgr init-usertree\n",
        "!tlmgr install siunitx textgreek ifsym\n",
        "\n",
        "# Make sure binaries are in the PATH\n",
        "import os\n",
        "os.environ[\"PATH\"] += \":/usr/bin\"\n",
        "\n",
        "\n",
        "# Install Python dependencies\n",
        "!pip install matplotlib>=3.7.0 seaborn>=0.12.0 numpy>=1.24.0 pandas>=2.0.0 scipy>=1.10.0 -q -q -q\n",
        "!pip install Pillow>=9.0.0 pypdf>=3.0.0 PyYAML>=6.0.0 -q -q -q\n",
        "!pip install ezinput  -q -q -q\n",
        "\n",
        "# Install Mermaid CLI for diagram generation\n",
        "!npm install -g @mermaid-js/mermaid-cli\n",
        "\n",
        "print(\"✅ All dependencies installed successfully!\")"
      ]
    },
    {
      "cell_type": "markdown",
      "metadata": {
        "id": "tRhFdlr6anI0"
      },
      "source": [
        "## 💾 Choose between storing the files in current Colab Session or in your Google Drive\n"
      ]
    },
    {
      "cell_type": "code",
      "execution_count": null,
      "metadata": {
        "cellView": "form",
        "id": "WJeM_61canC"
      },
      "outputs": [],
      "source": [
        "#@title Where do you want to store the files?\n",
        "import os\n",
        "from ezinput import EZInput as ezi\n",
        "from IPython.display import clear_output\n",
        "from google.colab import output\n",
        "\n",
        "def print_set(options):\n",
        "  nLabels = gui._nLabels\n",
        "  gui[f\"label_{nLabels}\"].value = \"All settings saved!\"\n",
        "\n",
        "gui = ezi()\n",
        "gui.add_label(\"Do you want to save the cloned repository and generated files in Google Drive?\")\n",
        "gui.add_label(\"If not, cloned repo and files will be stored in the current Colab runtime.\")\n",
        "gui.add_check(\"in_gdrive\", description=\"Store in Google Drive?\", remember_value=True, value=False)\n",
        "gui.add_label(\"   \")\n",
        "gui.add_label(\"Type the name for the manuscript folder to be used.\")\n",
        "gui.add_label(\"If a name different from the default MANUSCRIPT folder is selected for the first time, make sure to also select 'Create new manuscript folder'.\")\n",
        "gui.add_text_area(\"man_name\", description=\"Manuscript Name:\", remember_value=True, placeholder=\"MANUSCRIPT\", value=\"MANUSCRIPT\")\n",
        "gui.add_label(\"   \")\n",
        "gui.add_label(\"Select if you are using a new name for the manuscript folder.\")\n",
        "gui.add_check(\"new_folder\", description=\"Create new manuscript folder\", remember_value=True, value=False)\n",
        "gui.add_label(\"   \")\n",
        "gui.add_label(\"Select 'Continue a previous build' to use previously created files stored in your Google Drive.\")\n",
        "gui.add_label(\"If not selected a new default folder will be created and possibly overwrite previously created files.\")\n",
        "gui.add_check(\"continue\", description=\"Continue a previous build?\", remember_value=True, value=False)\n",
        "gui.add_label(\"   \")\n",
        "gui.add_callback(\"set\", print_set, {}, description=\"Set options\")\n",
        "gui.add_label(\"   \")\n",
        "gui.show()"
      ]
    },
    {
      "cell_type": "markdown",
      "metadata": {
        "id": "clone-section"
      },
      "source": [
        "## 📥 Clone Rxiv-Maker Repository"
      ]
    },
    {
      "cell_type": "code",
      "execution_count": null,
      "metadata": {
        "cellView": "form",
        "id": "clone-repo"
      },
      "outputs": [],
      "source": [
        "#@title Clone the Rxiv-Maker repository to access the processing scripts and templates.\n",
        "import os\n",
        "import shutil\n",
        "\n",
        "if gui[\"in_gdrive\"].value:\n",
        "    from google.colab import drive\n",
        "    drive.mount('/content/drive')\n",
        "    PATH = \"/content/drive/MyDrive/rxiv-maker\"\n",
        "    os.environ[\"MANUSCRIPT_PATH\"] = \"drive/MyDrive/rxiv-maker\" + os.sep + gui[\"man_name\"].value\n",
        "else:\n",
        "    PATH = \"/content/rxiv-maker\"\n",
        "    os.environ[\"MANUSCRIPT_PATH\"] = \"rxiv-maker\" + os.sep + gui[\"man_name\"].value\n",
        "\n",
        "output_path = PATH + os.sep + \"output\"\n",
        "output_figures_path = PATH + os.sep + gui[\"man_name\"].value + os.sep + \"FIGURES\"\n",
        "\n",
        "if not gui[\"continue\"].value:\n",
        "  # Clone the repository\n",
        "  if os.path.exists(PATH):\n",
        "      shutil.rmtree(PATH)\n",
        "\n",
        "  !git clone https://github.com/HenriquesLab/rxiv-maker.git {PATH}\n",
        "\n",
        "  # Create output directory\n",
        "  !mkdir -p {output_path}\n",
        "  !mkdir -p {output_figures_path}\n",
        "\n",
        "  print(\"✅ Rxiv-Maker repository cloned and set up!\")\n",
        "  print(f\"Current directory: {os.getcwd()}\")\n",
        "  #!ls -la\n",
        "\n",
        "  if gui[\"new_folder\"].value:\n",
        "    if os.path.exists(PATH + os.sep + gui[\"man_name\"].value):\n",
        "        shutil.rmtree(PATH + os.sep + gui[\"man_name\"].value)\n",
        "    shutil.copytree(PATH + os.sep + \"MANUSCRIPT\", PATH + os.sep + gui[\"man_name\"].value)\n",
        "  elif gui[\"man_name\"].value == \"EXAMPLE_MANUSCRIPT\":\n",
        "    pass # will use the example manuscript folder\n",
        "  else:\n",
        "    os.rename(PATH + os.sep + \"MANUSCRIPT\", PATH + os.sep + gui[\"man_name\"].value)\n",
        "\n",
        "!pip install {PATH} -q -q -q"
      ]
    },
    {
      "cell_type": "markdown",
      "metadata": {
        "id": "figures-section"
      },
      "source": [
        "## 🔧 Generate Figures"
      ]
    },
    {
      "cell_type": "code",
      "execution_count": null,
      "metadata": {
        "cellView": "form",
        "id": "generate-figures"
      },
      "outputs": [],
      "source": [
        "#@title Generate figures from Python scripts and Mermaid diagrams in the FIGURES directory.\n",
        "# Check what figure sources we have\n",
        "print(\"Figure source files:\")\n",
        "!ls -la {figures_path}\n",
        "figures_path = PATH + os.sep + gui[\"man_name\"].value + os.sep + \"FIGURES\"\n",
        "# Generate figures\n",
        "print(\"\\n\" + \"=\" * 50)\n",
        "print(\"Generating figures...\")\n",
        "print(\"=\" * 50)\n",
        "generate_path = PATH + os.sep + \"src\" + os.sep + \"py\" + os.sep + \"commands\" + os.sep + \"generate_figures.py\"\n",
        "!python3 {generate_path} --figures-dir {figures_path} --output-dir {output_figures_path} --format png\n",
        "\n",
        "print(\"\\n✅ Figure generation completed!\")"
      ]
    },
    {
      "cell_type": "markdown",
      "metadata": {
        "id": "latex-section"
      },
      "source": [
        "## 📄 Generate LaTeX Article"
      ]
    },
    {
      "cell_type": "code",
      "execution_count": null,
      "metadata": {
        "cellView": "form",
        "id": "generate-latex"
      },
      "outputs": [],
      "source": [
        "#@title Convert the Markdown manuscript to LaTeX using the Rxiv-Maker processing pipeline.\n",
        "print(\"Generating LaTeX article from Markdown...\")\n",
        "print(\"=\" * 50)\n",
        "\n",
        "generate_preprint_path = PATH + os.sep + \"src\" + os.sep + \"py\" + os.sep + \"commands\" + os.sep + \"generate_preprint.py\"\n",
        "!python3 {generate_preprint_path} --output-dir {output_path}\n",
        "\n",
        "print(\"\\n✅ LaTeX generation completed!\")\n",
        "print(\"\\nContents of output directory:\")\n",
        "!ls -la {output_path}"
      ]
    },
    {
      "cell_type": "markdown",
      "metadata": {
        "id": "copy-files-section"
      },
      "source": [
        "## 📚 Copy Supporting Files"
      ]
    },
    {
      "cell_type": "code",
      "execution_count": null,
      "metadata": {
        "cellView": "form",
        "id": "copy-files"
      },
      "outputs": [],
      "source": [
        "#@title Copy all necessary LaTeX style files, bibliography, and figures to the output directory.\n",
        "import glob\n",
        "import shutil\n",
        "import os\n",
        "\n",
        "print(\"Copying supporting files to output directory...\")\n",
        "print(\"=\" * 50)\n",
        "\n",
        "# Copy LaTeX style files\n",
        "style_files = glob.glob(PATH + os.sep + \"src/tex/style/*\")\n",
        "for file in style_files:\n",
        "    if os.path.isfile(file):\n",
        "        shutil.copy2(file, output_path)\n",
        "        print(f\"✅ Copied {os.path.basename(file)}\")\n",
        "\n",
        "# Copy bibliography\n",
        "bib_path = os.path.join(PATH, gui[\"man_name\"].value, \"02_REFERENCES.bib\")\n",
        "if os.path.exists(bib_path):\n",
        "    shutil.copy2(bib_path, output_path)\n",
        "    print(\"✅ Copied bibliography\")\n",
        "\n",
        "# Copy figures directory recursively\n",
        "figures_src = os.path.join(PATH, gui[\"man_name\"].value, \"FIGURES\")\n",
        "figures_dst = os.path.join(output_path, \"Figures\")\n",
        "\n",
        "if os.path.exists(figures_src):\n",
        "    if os.path.exists(figures_dst):\n",
        "        shutil.rmtree(figures_dst)  # remove if exists to avoid duplication\n",
        "    shutil.copytree(figures_src, figures_dst)\n",
        "    print(\"✅ Copied all figures and subfolders\")\n",
        "\n",
        "print(\"\\n✅ All supporting files copied!\")\n",
        "print(\"\\nFinal output directory contents:\")\n",
        "!ls -la {output_path}\n",
        "print(\"\\nFigures directory:\")\n",
        "!ls -la {figures_dst}"
      ]
    },
    {
      "cell_type": "markdown",
      "metadata": {
        "id": "compile-section"
      },
      "source": [
        "## 🔨 Compile LaTeX to PDF"
      ]
    },
    {
      "cell_type": "code",
      "execution_count": null,
      "metadata": {
        "cellView": "form",
        "id": "compile-pdf"
      },
      "outputs": [],
      "source": [
        "#@title Compile the LaTeX document to generate the final PDF. This process includes multiple passes for proper cross-references and bibliography.\n",
        "# Change to output directory for compilation\n",
        "%cd {output_path}\n",
        "print(\"Compiling LaTeX to PDF...\")\n",
        "print(\"This may take a few minutes...\")\n",
        "print(\"=\" * 50)\n",
        "\n",
        "# First LaTeX pass\n",
        "print(\"🔄 First LaTeX pass...\")\n",
        "article_path = gui[\"man_name\"].value + \".tex\"\n",
        "article_path_pdf = gui[\"man_name\"].value + \".pdf\"\n",
        "article_log_path = gui[\"man_name\"].value + \".log\"\n",
        "!pdflatex -interaction=nonstopmode {article_path}\n",
        "\n",
        "# Bibliography processing\n",
        "print(\"\\n📚 Processing bibliography...\")\n",
        "!bibtex {article_path[:-4]}\n",
        "\n",
        "# Second LaTeX pass\n",
        "print(\"\\n🔄 Second LaTeX pass...\")\n",
        "!pdflatex -interaction=nonstopmode {article_path}\n",
        "\n",
        "# Third LaTeX pass (for final cross-references)\n",
        "print(\"\\n🔄 Final LaTeX pass...\")\n",
        "!pdflatex -interaction=nonstopmode {article_path}\n",
        "\n",
        "print(\"\\n\" + \"=\" * 50)\n",
        "if os.path.exists(article_path_pdf):\n",
        "    print(\"🎉 PDF compilation completed successfully!\")\n",
        "    print(f\"📄 Generated PDF: {article_path_pdf} ({os.path.getsize(article_path_pdf)} bytes)\")\n",
        "else:\n",
        "    print(\"❌ PDF compilation failed. Check the log file for errors.\")\n",
        "    print(\"\\nLaTeX log (last 50 lines):\")\n",
        "    !tail -50 {article_log_path}\n",
        "%cd /content/\n"
      ]
    },
    {
      "cell_type": "markdown",
      "metadata": {
        "id": "download-section"
      },
      "source": [
        "## 📱 Preview and Download"
      ]
    },
    {
      "cell_type": "code",
      "execution_count": null,
      "metadata": {
        "cellView": "form",
        "id": "preview-pdf"
      },
      "outputs": [],
      "source": [
        "#@title View the generated PDF and download all output files.\n",
        "import base64\n",
        "\n",
        "from IPython.display import HTML, display\n",
        "\n",
        "# Check if PDF was generated\n",
        "pdf_path = output_path + os.sep + gui[\"man_name\"].value + \".pdf\"\n",
        "if os.path.exists(pdf_path):\n",
        "    print(\"📄 PDF generated successfully!\")\n",
        "\n",
        "    # Display PDF preview\n",
        "    with open(pdf_path, \"rb\") as f:\n",
        "        pdf_data = f.read()\n",
        "\n",
        "    pdf_b64 = base64.b64encode(pdf_data).decode(\"utf-8\")\n",
        "    pdf_display = f'<iframe src=\"data:application/pdf;base64,{pdf_b64}\" width=\"100%\" height=\"600px\"></iframe>'\n",
        "    display(HTML(pdf_display))\n",
        "\n",
        "    print(\"\\n\" + \"=\" * 50)\n",
        "    print(\"📥 Download your files:\")\n",
        "    print(\"Run the next cells to download the manuscript files and/or all files as a ZIP.\")\n",
        "    print(\"=\" * 50)\n",
        "\n",
        "else:\n",
        "    print(\"❌ PDF not found. Please check the compilation step above.\")\n",
        "    print(\"\\nAvailable files in output directory:\")\n",
        "    !ls -la {output_path}"
      ]
    },
    {
      "cell_type": "code",
      "execution_count": null,
      "metadata": {
        "cellView": "form",
        "id": "download-files"
      },
      "outputs": [],
      "source": [
        "#@title Download Manuscript Files\n",
        "from google.colab import files\n",
        "# Download individual files\n",
        "print(\"Click to download individual files:\")\n",
        "print(\"-\" * 40)\n",
        "\n",
        "# Download PDF\n",
        "if os.path.exists(pdf_path):\n",
        "    files.download(pdf_path)\n",
        "    print(f\"✅ {article_path_pdf} downloaded\")\n",
        "\n",
        "# Download LaTeX source\n",
        "if os.path.exists(output_path + os.sep + article_path):\n",
        "    files.download(output_path + os.sep + article_path)\n",
        "    print(f\"✅ {article_path} downloaded\")\n",
        "\n",
        "print(\"\\n📦 Or download everything as ZIP:\")"
      ]
    },
    {
      "cell_type": "code",
      "execution_count": null,
      "metadata": {
        "cellView": "form",
        "id": "download-zip"
      },
      "outputs": [],
      "source": [
        "#@title Download all files as a ZIP\n",
        "# Create ZIP archive with all output files\n",
        "import datetime\n",
        "import zipfile\n",
        "\n",
        "timestamp = datetime.datetime.now().strftime(\"%Y%m%d_%H%M%S\")\n",
        "zip_filename = f\"rxiv_maker_output_{timestamp}.zip\"\n",
        "\n",
        "with zipfile.ZipFile(zip_filename, \"w\", zipfile.ZIP_DEFLATED) as zipf:\n",
        "    # Add all files from output directory\n",
        "    for root, dirs, files_list in os.walk(output_path):\n",
        "        for file in files_list:\n",
        "            file_path = os.path.join(root, file)\n",
        "            arcname = os.path.relpath(file_path, output_path)\n",
        "            zipf.write(file_path, arcname)\n",
        "            print(f\"📁 Added to ZIP: {arcname}\")\n",
        "\n",
        "print(f\"\\n✅ Created ZIP archive: {zip_filename}\")\n",
        "print(f\"📦 Archive size: {os.path.getsize(zip_filename)} bytes\")\n",
        "\n",
        "# Download the ZIP file\n",
        "files.download(zip_filename)\n",
        "print(\"🎉 ZIP archive downloaded successfully!\")"
      ]
    },
    {
      "cell_type": "markdown",
      "metadata": {
        "id": "troubleshooting-section"
      },
      "source": [
        "## 🔧 Troubleshooting"
      ]
    },
    {
      "cell_type": "code",
      "execution_count": null,
      "metadata": {
        "cellView": "form",
        "id": "troubleshooting"
      },
      "outputs": [],
      "source": [
        "#@title If you encounter issues, run this cell to check common problems.\n",
        "print(\"🔍 TROUBLESHOOTING CHECKLIST\")\n",
        "print(\"=\" * 50)\n",
        "files_path = PATH + os.sep + gui[\"man_name\"].value\n",
        "# Check required files\n",
        "required_files = [PATH + os.sep + gui[\"man_name\"].value + os.sep + \"01_MAIN.md\", PATH + os.sep + gui[\"man_name\"].value + os.sep + \"03_REFERENCES.bib\"]\n",
        "for file in required_files:\n",
        "    if os.path.exists(file):\n",
        "        print(f\"✅ {file} found\")\n",
        "    else:\n",
        "        print(f\"❌ {file} missing\")\n",
        "\n",
        "# Check Python scripts\n",
        "python_scripts = [\n",
        "    PATH + os.sep + \"src/py/commands/generate_preprint.py\",\n",
        "    PATH + os.sep + \"src/py/commands/generate_figures.py\",\n",
        "]\n",
        "for script in python_scripts:\n",
        "    if os.path.exists(script):\n",
        "        print(f\"✅ {script} found\")\n",
        "    else:\n",
        "        print(f\"❌ {script} missing\")\n",
        "\n",
        "# Check LaTeX installation\n",
        "import subprocess\n",
        "\n",
        "try:\n",
        "    result = subprocess.run([\"pdflatex\", \"--version\"], capture_output=True, text=True)\n",
        "    if result.returncode == 0:\n",
        "        print(\"✅ pdflatex installed\")\n",
        "    else:\n",
        "        print(\"❌ pdflatex not working\")\n",
        "except FileNotFoundError:\n",
        "    print(\"❌ pdflatex not found\")\n",
        "\n",
        "# Check output directory\n",
        "if os.path.exists(PATH + os.sep + \"output\"):\n",
        "    print(\"✅ Output directory exists\")\n",
        "    files_in_output = os.listdir(PATH + os.sep + \"output\")\n",
        "    print(f\"📁 Files in output: {len(files_in_output)}\")\n",
        "    if article_path in files_in_output:\n",
        "        print(f\"✅ {article_path} generated\")\n",
        "    else:\n",
        "        print(f\"❌ {article_path} not found\")\n",
        "    if article_path_pdf in files_in_output:\n",
        "        print(f\"✅ {article_path_pdf} generated\")\n",
        "    else:\n",
        "        print(f\"❌ {article_path_pdf} not found\")\n",
        "else:\n",
        "    print(\"❌ Output directory missing\")\n",
        "\n",
        "print(\"\\n\" + \"=\" * 50)\n",
        "print(\"If you see any ❌ errors above, please:\")\n",
        "print(\"1. Re-run the setup cells\")\n",
        "print(\"2. Check that your input files are properly formatted\")\n",
        "print(\"3. Look at the LaTeX log for compilation errors\")\n",
        "\n",
        "# Show recent LaTeX log if available\n",
        "if os.path.exists(f\"output/{gui['man_name'].value}.log\"):\n",
        "    print(\"\\n📄 Recent LaTeX log (last 20 lines):\")\n",
        "    !tail -20 output/{gui['man_name'].value}.log"
      ]
    },
    {
      "cell_type": "markdown",
      "metadata": {
        "id": "next-steps"
      },
      "source": [
        "## 📖 Next Steps\n",
        "\n",
        "**Congratulations!** You've successfully used Rxiv-Maker to generate a publication-ready LaTeX article.\n",
        "\n",
        "### What you can do next:\n",
        "\n",
        "1. **Customize your manuscript**: Edit the YAML frontmatter in your Markdown file to change title, authors, affiliations, etc.\n",
        "\n",
        "2. **Add more figures**: Create Python scripts or Mermaid diagrams in the FIGURES directory\n",
        "\n",
        "3. **Modify the LaTeX template**: The template is in `src/tex/template.tex`\n",
        "\n",
        "4. **Use locally**: Clone the repository to your local machine for offline use\n",
        "\n",
        "### Learn more:\n",
        "- [Rxiv-Maker Documentation](https://github.com/HenriquesLab/rxiv-maker)\n",
        "- [Markdown Guide](https://www.markdownguide.org/)\n",
        "- [LaTeX Documentation](https://www.latex-project.org/help/documentation/)\n",
        "\n",
        "### Need help?\n",
        "- Open an issue on [GitHub](https://github.com/HenriquesLab/rxiv-maker/issues)\n",
        "- Check the troubleshooting section above\n",
        "\n",
        "---\n",
        "\n",
        "*This notebook was created for the Rxiv-Maker project by the HenriquesLab.*"
      ]
    }
  ],
  "metadata": {
    "colab": {
      "private_outputs": true,
      "provenance": []
    },
    "kernelspec": {
      "display_name": "Python 3",
      "name": "python3"
    },
    "language_info": {
      "name": "python"
    }
  },
  "nbformat": 4,
  "nbformat_minor": 0
}